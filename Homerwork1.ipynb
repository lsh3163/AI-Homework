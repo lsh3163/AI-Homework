{
  "nbformat": 4,
  "nbformat_minor": 0,
  "metadata": {
    "colab": {
      "name": "Homerwork1.ipynb",
      "provenance": [],
      "authorship_tag": "ABX9TyNGT59qjJTac5rMWUIK8nn7",
      "include_colab_link": true
    },
    "kernelspec": {
      "name": "python3",
      "display_name": "Python 3"
    }
  },
  "cells": [
    {
      "cell_type": "markdown",
      "metadata": {
        "id": "view-in-github",
        "colab_type": "text"
      },
      "source": [
        "<a href=\"https://colab.research.google.com/github/lsh3163/AI-Homework/blob/main/Homerwork1.ipynb\" target=\"_parent\"><img src=\"https://colab.research.google.com/assets/colab-badge.svg\" alt=\"Open In Colab\"/></a>"
      ]
    },
    {
      "cell_type": "markdown",
      "metadata": {
        "id": "Y1JIsdME55p7"
      },
      "source": [
        "# 인공지능 과제1"
      ]
    },
    {
      "cell_type": "markdown",
      "metadata": {
        "id": "bb1Wc0nP6Gy_"
      },
      "source": [
        "## Gathering some data"
      ]
    },
    {
      "cell_type": "code",
      "metadata": {
        "id": "oR1beMBT51vO"
      },
      "source": [
        "%matplotlib inline\n",
        "import numpy as np\n",
        "import torch\n",
        "torch.set_printoptions(edgeitems=2, linewidth=75)"
      ],
      "execution_count": 1,
      "outputs": []
    },
    {
      "cell_type": "markdown",
      "metadata": {
        "id": "O5KiJFKt6fwH"
      },
      "source": [
        "*  the` t_c `values are temperatures in Celsius\n",
        "*  the `t_v `values are our unknown units\n",
        "\n"
      ]
    },
    {
      "cell_type": "code",
      "metadata": {
        "id": "urZa4k1C6MKY"
      },
      "source": [
        "t_c = [0.5, 14.0, 15.0, 28.0, 11.0, 8.0, 3.0, -4.0, 6.0, 13.0, 21.0]\n",
        "t_u = [35.7, 55.9, 58.2, 81.9, 56.3, 48.9, 33.9, 21.8, 48.4, 60.4, 68.4]\n",
        "t_c = torch.tensor(t_c)\n",
        "t_u = torch.tensor(t_u)"
      ],
      "execution_count": 2,
      "outputs": []
    },
    {
      "cell_type": "markdown",
      "metadata": {
        "id": "DUtljkt66w6k"
      },
      "source": [
        "## Choosing a linear model as a first try"
      ]
    },
    {
      "cell_type": "code",
      "metadata": {
        "id": "_XrwjZqr6uyO"
      },
      "source": [
        "def model(t_u, w, b):\n",
        "  return w*t_u+b\n",
        "\n",
        "## Mean Squared Error  \n",
        "def loss_fn(t_p, t_c):\n",
        "  squared_diffs = (t_p-t_c)**2\n",
        "  return squared_diffs.mean()"
      ],
      "execution_count": 3,
      "outputs": []
    },
    {
      "cell_type": "code",
      "metadata": {
        "id": "OqqeY66D6_Z8",
        "outputId": "c2425463-5b61-40d6-9889-c05aa8a4964e",
        "colab": {
          "base_uri": "https://localhost:8080/"
        }
      },
      "source": [
        "w = torch.ones(())\n",
        "b = torch.zeros(())\n",
        "t_p = model(t_u, w, b)\n",
        "t_p"
      ],
      "execution_count": 4,
      "outputs": [
        {
          "output_type": "execute_result",
          "data": {
            "text/plain": [
              "tensor([35.7000, 55.9000, 58.2000, 81.9000, 56.3000, 48.9000, 33.9000,\n",
              "        21.8000, 48.4000, 60.4000, 68.4000])"
            ]
          },
          "metadata": {
            "tags": []
          },
          "execution_count": 4
        }
      ]
    },
    {
      "cell_type": "code",
      "metadata": {
        "id": "UEHYWJT47MWv",
        "outputId": "58c2e6fb-45b2-4207-d19e-f11bf773b4ee",
        "colab": {
          "base_uri": "https://localhost:8080/"
        }
      },
      "source": [
        "loss = loss_fn(t_p, t_c)\n",
        "loss"
      ],
      "execution_count": 5,
      "outputs": [
        {
          "output_type": "execute_result",
          "data": {
            "text/plain": [
              "tensor(1763.8848)"
            ]
          },
          "metadata": {
            "tags": []
          },
          "execution_count": 5
        }
      ]
    },
    {
      "cell_type": "markdown",
      "metadata": {
        "id": "JCL3PokI72m7"
      },
      "source": [
        "## Decreasing loss"
      ]
    },
    {
      "cell_type": "code",
      "metadata": {
        "id": "DulAcus07x1_"
      },
      "source": [
        "delta = 0.1\n",
        "loss_rate_of_change_w = (loss_fn(model(t_u, w+delta, b), t_c) - loss_fn(model(t_u, w-delta, b), t_c)) / (2.0*delta)"
      ],
      "execution_count": 6,
      "outputs": []
    },
    {
      "cell_type": "code",
      "metadata": {
        "id": "feb_9U-B9uZo"
      },
      "source": [
        "learning_rate = 1e-2\n",
        "w = w - learning_rate * loss_rate_of_change_w"
      ],
      "execution_count": 7,
      "outputs": []
    },
    {
      "cell_type": "code",
      "metadata": {
        "id": "wEjYs6o892PN"
      },
      "source": [
        "loss_rate_of_change_b = (loss_fn(model(t_u, w, b+delta), t_c) - loss_fn(model(t_u, w, b-delta), t_c)) / (2.0*delta)\n",
        "b = b - learning_rate * loss_rate_of_change_b"
      ],
      "execution_count": 8,
      "outputs": []
    },
    {
      "cell_type": "markdown",
      "metadata": {
        "id": "WoEFW5Fa-EUg"
      },
      "source": [
        "## Applying the derivatives to the model"
      ]
    },
    {
      "cell_type": "code",
      "metadata": {
        "id": "fm5rgBD79_a-"
      },
      "source": [
        "def dloss_fn(t_p, t_c):\n",
        "  dsq_diffs = 2 * (t_p - t_c) / t_p.size(0)\n",
        "  return dsq_diffs\n",
        "\n",
        "def dmodel_dw(t_u, w, b):\n",
        "  return t_u\n",
        "\n",
        "def dmodel_db(t_u, w, b):\n",
        "  return 1.0\n",
        "\n",
        "def loss_fn(t_p, t_c):\n",
        "  squared_diffs = (t_p - t_c)**2\n",
        "  return squared_diffs.mean()\n",
        "\n",
        "def model(t_u, w, b):\n",
        "  return w*t_u+b"
      ],
      "execution_count": 9,
      "outputs": []
    },
    {
      "cell_type": "markdown",
      "metadata": {
        "id": "Yg95RzK7-ssU"
      },
      "source": [
        "## Defining the Gradient Function"
      ]
    },
    {
      "cell_type": "code",
      "metadata": {
        "id": "_M1kfJsL-m4Y"
      },
      "source": [
        "def grad_fn(t_u, t_c, t_p, w, b):\n",
        "  dloss_dtp = dloss_fn(t_p, t_c)\n",
        "  dloss_dw = dloss_dtp * dmodel_dw(t_u, w, b)\n",
        "  dloss_db = dloss_dtp * dmodel_db(t_u, w, b)\n",
        "  return torch.stack([dloss_dw.sum(), dloss_db.sum()])"
      ],
      "execution_count": 10,
      "outputs": []
    },
    {
      "cell_type": "code",
      "metadata": {
        "id": "kqPVpPW4_BXv"
      },
      "source": [
        "def training_loop(n_epochs, learning_rate, params, t_u, t_c, print_params=True):\n",
        "  for epoch in range(1, n_epochs+1):\n",
        "    w, b = params\n",
        "\n",
        "    t_p = model(t_u, w, b)\n",
        "    loss = loss_fn(t_p, t_c)\n",
        "    grad = grad_fn(t_u, t_c, t_p, w, b)\n",
        "\n",
        "    params = params - learning_rate * grad\n",
        "    if epoch in (1, 2, 3, 10, 11, 99, 100, 4000, 5000):\n",
        "      print(\"Epoch %d, Loss %f\" % (epoch, float(loss)))\n",
        "      if print_params:\n",
        "        print(' Params:', params)\n",
        "        print(' Grad:', grad)\n",
        "      if epoch in (4, 12, 101):\n",
        "        print('...')\n",
        "      if not torch.isfinite(loss).all():\n",
        "        break\n",
        "  return params"
      ],
      "execution_count": 11,
      "outputs": []
    },
    {
      "cell_type": "code",
      "metadata": {
        "id": "DnlaHx1-AB6Q",
        "outputId": "7a9c6760-0e2a-4fd8-913a-64ae91c52c07",
        "colab": {
          "base_uri": "https://localhost:8080/"
        }
      },
      "source": [
        "training_loop(\n",
        "    n_epochs=100,\n",
        "    learning_rate=1e-2,\n",
        "    params=torch.tensor([1.0, 0.0]),\n",
        "    t_u=t_u,\n",
        "    t_c=t_c\n",
        ")"
      ],
      "execution_count": 12,
      "outputs": [
        {
          "output_type": "stream",
          "text": [
            "Epoch 1, Loss 1763.884766\n",
            " Params: tensor([-44.1730,  -0.8260])\n",
            " Grad: tensor([4517.2964,   82.6000])\n",
            "Epoch 2, Loss 5802484.500000\n",
            " Params: tensor([2568.4011,   45.1637])\n",
            " Grad: tensor([-261257.4062,   -4598.9702])\n",
            "Epoch 3, Loss 19408029696.000000\n",
            " Params: tensor([-148527.7344,   -2616.3931])\n",
            " Grad: tensor([15109614.0000,   266155.6875])\n",
            "Epoch 10, Loss 90901105189019073810297959556841472.000000\n",
            " Params: tensor([3.2144e+17, 5.6621e+15])\n",
            " Grad: tensor([-3.2700e+19, -5.7600e+17])\n",
            "Epoch 11, Loss inf\n",
            " Params: tensor([-1.8590e+19, -3.2746e+17])\n",
            " Grad: tensor([1.8912e+21, 3.3313e+19])\n"
          ],
          "name": "stdout"
        },
        {
          "output_type": "execute_result",
          "data": {
            "text/plain": [
              "tensor([-1.8590e+19, -3.2746e+17])"
            ]
          },
          "metadata": {
            "tags": []
          },
          "execution_count": 12
        }
      ]
    },
    {
      "cell_type": "markdown",
      "metadata": {
        "id": "3u9xboVWAgo6"
      },
      "source": [
        "## Hyperparameter tuning"
      ]
    },
    {
      "cell_type": "code",
      "metadata": {
        "id": "lFAYuNOoANRw",
        "outputId": "d631aa45-8dfb-4ada-9f2f-5285128233bb",
        "colab": {
          "base_uri": "https://localhost:8080/"
        }
      },
      "source": [
        "training_loop(\n",
        "    n_epochs=100,\n",
        "    learning_rate=1e-4,\n",
        "    params=torch.tensor([1.0, 0.0]),\n",
        "    t_u=t_u,\n",
        "    t_c=t_c\n",
        ")"
      ],
      "execution_count": 13,
      "outputs": [
        {
          "output_type": "stream",
          "text": [
            "Epoch 1, Loss 1763.884766\n",
            " Params: tensor([ 0.5483, -0.0083])\n",
            " Grad: tensor([4517.2964,   82.6000])\n",
            "Epoch 2, Loss 323.090515\n",
            " Params: tensor([ 0.3623, -0.0118])\n",
            " Grad: tensor([1859.5493,   35.7843])\n",
            "Epoch 3, Loss 78.929634\n",
            " Params: tensor([ 0.2858, -0.0135])\n",
            " Grad: tensor([765.4666,  16.5122])\n",
            "Epoch 10, Loss 29.105247\n",
            " Params: tensor([ 0.2324, -0.0166])\n",
            " Grad: tensor([1.4803, 3.0544])\n",
            "Epoch 11, Loss 29.104168\n",
            " Params: tensor([ 0.2323, -0.0169])\n",
            " Grad: tensor([0.5781, 3.0384])\n",
            "Epoch 99, Loss 29.023582\n",
            " Params: tensor([ 0.2327, -0.0435])\n",
            " Grad: tensor([-0.0533,  3.0226])\n",
            "Epoch 100, Loss 29.022667\n",
            " Params: tensor([ 0.2327, -0.0438])\n",
            " Grad: tensor([-0.0532,  3.0226])\n"
          ],
          "name": "stdout"
        },
        {
          "output_type": "execute_result",
          "data": {
            "text/plain": [
              "tensor([ 0.2327, -0.0438])"
            ]
          },
          "metadata": {
            "tags": []
          },
          "execution_count": 13
        }
      ]
    },
    {
      "cell_type": "markdown",
      "metadata": {
        "id": "wEntaBTLAnDE"
      },
      "source": [
        "## Normalizing inputs"
      ]
    },
    {
      "cell_type": "code",
      "metadata": {
        "id": "OPN1RKyHAkDz",
        "outputId": "c46ffe8c-6ad5-4e38-89bf-ea6ad8ee7ebb",
        "colab": {
          "base_uri": "https://localhost:8080/"
        }
      },
      "source": [
        "t_un = 0.1 * t_u\n",
        "\n",
        "params = training_loop(\n",
        "    n_epochs=100,\n",
        "    learning_rate=1e-2,\n",
        "    params=torch.tensor([1.0, 0.0]),\n",
        "    t_u=t_un,\n",
        "    t_c=t_c\n",
        ")"
      ],
      "execution_count": 14,
      "outputs": [
        {
          "output_type": "stream",
          "text": [
            "Epoch 1, Loss 80.364342\n",
            " Params: tensor([1.7761, 0.1064])\n",
            " Grad: tensor([-77.6140, -10.6400])\n",
            "Epoch 2, Loss 37.574913\n",
            " Params: tensor([2.0848, 0.1303])\n",
            " Grad: tensor([-30.8623,  -2.3864])\n",
            "Epoch 3, Loss 30.871077\n",
            " Params: tensor([2.2094, 0.1217])\n",
            " Grad: tensor([-12.4631,   0.8587])\n",
            "Epoch 10, Loss 29.030489\n",
            " Params: tensor([ 2.3232, -0.0710])\n",
            " Grad: tensor([-0.5355,  2.9295])\n",
            "Epoch 11, Loss 28.941877\n",
            " Params: tensor([ 2.3284, -0.1003])\n",
            " Grad: tensor([-0.5240,  2.9264])\n",
            "Epoch 99, Loss 22.214186\n",
            " Params: tensor([ 2.7508, -2.4910])\n",
            " Grad: tensor([-0.4453,  2.5208])\n",
            "Epoch 100, Loss 22.148710\n",
            " Params: tensor([ 2.7553, -2.5162])\n",
            " Grad: tensor([-0.4446,  2.5165])\n"
          ],
          "name": "stdout"
        }
      ]
    },
    {
      "cell_type": "code",
      "metadata": {
        "id": "WJLVSnL_AuIm",
        "outputId": "03831854-5566-4a60-ce2a-db0fd4ca1520",
        "colab": {
          "base_uri": "https://localhost:8080/"
        }
      },
      "source": [
        "t_un = 0.1 * t_u\n",
        "\n",
        "training_loop(\n",
        "    n_epochs=5000,\n",
        "    learning_rate=1e-2,\n",
        "    params=torch.tensor([1.0, 0.0]),\n",
        "    t_u=t_un,\n",
        "    t_c=t_c\n",
        ")"
      ],
      "execution_count": 15,
      "outputs": [
        {
          "output_type": "stream",
          "text": [
            "Epoch 1, Loss 80.364342\n",
            " Params: tensor([1.7761, 0.1064])\n",
            " Grad: tensor([-77.6140, -10.6400])\n",
            "Epoch 2, Loss 37.574913\n",
            " Params: tensor([2.0848, 0.1303])\n",
            " Grad: tensor([-30.8623,  -2.3864])\n",
            "Epoch 3, Loss 30.871077\n",
            " Params: tensor([2.2094, 0.1217])\n",
            " Grad: tensor([-12.4631,   0.8587])\n",
            "Epoch 10, Loss 29.030489\n",
            " Params: tensor([ 2.3232, -0.0710])\n",
            " Grad: tensor([-0.5355,  2.9295])\n",
            "Epoch 11, Loss 28.941877\n",
            " Params: tensor([ 2.3284, -0.1003])\n",
            " Grad: tensor([-0.5240,  2.9264])\n",
            "Epoch 99, Loss 22.214186\n",
            " Params: tensor([ 2.7508, -2.4910])\n",
            " Grad: tensor([-0.4453,  2.5208])\n",
            "Epoch 100, Loss 22.148710\n",
            " Params: tensor([ 2.7553, -2.5162])\n",
            " Grad: tensor([-0.4446,  2.5165])\n",
            "Epoch 4000, Loss 2.927680\n",
            " Params: tensor([  5.3643, -17.2853])\n",
            " Grad: tensor([-0.0006,  0.0033])\n",
            "Epoch 5000, Loss 2.927648\n",
            " Params: tensor([  5.3671, -17.3012])\n",
            " Grad: tensor([-0.0001,  0.0006])\n"
          ],
          "name": "stdout"
        },
        {
          "output_type": "execute_result",
          "data": {
            "text/plain": [
              "tensor([  5.3671, -17.3012])"
            ]
          },
          "metadata": {
            "tags": []
          },
          "execution_count": 15
        }
      ]
    },
    {
      "cell_type": "markdown",
      "metadata": {
        "id": "klDnp-DMBEF1"
      },
      "source": [
        "The exact vlaues would be w=5.3671 and b=-17.3012"
      ]
    },
    {
      "cell_type": "code",
      "metadata": {
        "id": "pn4TuE8rA0xF",
        "outputId": "c4eb81b3-0eba-455d-dd41-3c24b5776b82",
        "colab": {
          "base_uri": "https://localhost:8080/",
          "height": 400
        }
      },
      "source": [
        "%matplotlib inline\n",
        "from matplotlib import pyplot as plt\n",
        "\n",
        "t_p = model(t_un, *params)\n",
        "\n",
        "fig = plt.figure(dpi=100)\n",
        "plt.xlabel(\"Temperature (F)\")\n",
        "plt.ylabel(\"Temperature (C)\")\n",
        "plt.plot(t_u.numpy(), t_p.detach().numpy())\n",
        "plt.plot(t_u.numpy(), t_c.numpy(), 'o')"
      ],
      "execution_count": 16,
      "outputs": [
        {
          "output_type": "execute_result",
          "data": {
            "text/plain": [
              "[<matplotlib.lines.Line2D at 0x7fdbe6407710>]"
            ]
          },
          "metadata": {
            "tags": []
          },
          "execution_count": 16
        },
        {
          "output_type": "display_data",
          "data": {
            "image/png": "[encoded data removed]",
            "text/plain": [
              "<Figure size 600x400 with 1 Axes>"
            ]
          },
          "metadata": {
            "tags": [],
            "needs_background": "light"
          }
        }
      ]
    },
    {
      "cell_type": "markdown",
      "metadata": {
        "id": "CDwfVgqZBx4C"
      },
      "source": [
        "## Autograd : Backpropagating all things"
      ]
    },
    {
      "cell_type": "code",
      "metadata": {
        "id": "Jdi7kaAKBgol",
        "outputId": "679a0748-533c-46e4-f054-33730dc59235",
        "colab": {
          "base_uri": "https://localhost:8080/"
        }
      },
      "source": [
        "params = torch.tensor([1.0,0.0], requires_grad=True)\n",
        "params"
      ],
      "execution_count": 17,
      "outputs": [
        {
          "output_type": "execute_result",
          "data": {
            "text/plain": [
              "tensor([1., 0.], requires_grad=True)"
            ]
          },
          "metadata": {
            "tags": []
          },
          "execution_count": 17
        }
      ]
    },
    {
      "cell_type": "code",
      "metadata": {
        "id": "v1L6ZyvzB8cn",
        "outputId": "d2333d3d-0539-4d7b-f665-5f610a6c2704",
        "colab": {
          "base_uri": "https://localhost:8080/"
        }
      },
      "source": [
        "if params.grad is not None:\n",
        "  params.grad.zero_()\n",
        "\n",
        "loss = loss_fn(model(t_u, *params), t_c)\n",
        "loss.backward()\n",
        "params.grad"
      ],
      "execution_count": 18,
      "outputs": [
        {
          "output_type": "execute_result",
          "data": {
            "text/plain": [
              "tensor([4517.2969,   82.6000])"
            ]
          },
          "metadata": {
            "tags": []
          },
          "execution_count": 18
        }
      ]
    },
    {
      "cell_type": "markdown",
      "metadata": {
        "id": "DDcEd8nAIbyL"
      },
      "source": [
        "## Training"
      ]
    },
    {
      "cell_type": "code",
      "metadata": {
        "id": "_h-ExMNWCXRx"
      },
      "source": [
        "def training_loop(n_epochs, learning_rate, params, t_u, t_c):\n",
        "  for epoch in range(1, n_epochs+1):\n",
        "    if params.grad is not None:\n",
        "      params.grad.zero_()\n",
        "\n",
        "    t_p = model(t_u, *params)\n",
        "    loss = loss_fn(t_p, t_c)\n",
        "    loss.backward()\n",
        "\n",
        "    with torch.no_grad():\n",
        "      params -= learning_rate * params.grad\n",
        "    if epoch % 500 == 0:\n",
        "      print(\"Epoch %d, Loss %f\" % (epoch, float(loss)))\n",
        "  return params"
      ],
      "execution_count": 19,
      "outputs": []
    },
    {
      "cell_type": "code",
      "metadata": {
        "id": "hkCaPL_IH3q-",
        "outputId": "d2551690-a48c-4f81-9d7e-2feb4fd0ce65",
        "colab": {
          "base_uri": "https://localhost:8080/"
        }
      },
      "source": [
        "training_loop(\n",
        "    n_epochs = 5000,\n",
        "    learning_rate = 1e-2,\n",
        "    params = torch.tensor([1.0, 0.0], requires_grad=True),\n",
        "    t_u = t_un,\n",
        "    t_c = t_c\n",
        ")"
      ],
      "execution_count": 20,
      "outputs": [
        {
          "output_type": "stream",
          "text": [
            "Epoch 500, Loss 7.860115\n",
            "Epoch 1000, Loss 3.828538\n",
            "Epoch 1500, Loss 3.092191\n",
            "Epoch 2000, Loss 2.957698\n",
            "Epoch 2500, Loss 2.933134\n",
            "Epoch 3000, Loss 2.928648\n",
            "Epoch 3500, Loss 2.927830\n",
            "Epoch 4000, Loss 2.927679\n",
            "Epoch 4500, Loss 2.927652\n",
            "Epoch 5000, Loss 2.927647\n"
          ],
          "name": "stdout"
        },
        {
          "output_type": "execute_result",
          "data": {
            "text/plain": [
              "tensor([  5.3671, -17.3012], requires_grad=True)"
            ]
          },
          "metadata": {
            "tags": []
          },
          "execution_count": 20
        }
      ]
    },
    {
      "cell_type": "code",
      "metadata": {
        "id": "ZnRR96IBIV9l",
        "outputId": "3b3b24b0-2ac6-4c88-b8f0-bea01da1f696",
        "colab": {
          "base_uri": "https://localhost:8080/"
        }
      },
      "source": [
        "import torch.optim as optim\n",
        "dir(optim)"
      ],
      "execution_count": 21,
      "outputs": [
        {
          "output_type": "execute_result",
          "data": {
            "text/plain": [
              "['ASGD',\n",
              " 'Adadelta',\n",
              " 'Adagrad',\n",
              " 'Adam',\n",
              " 'AdamW',\n",
              " 'Adamax',\n",
              " 'LBFGS',\n",
              " 'Optimizer',\n",
              " 'RMSprop',\n",
              " 'Rprop',\n",
              " 'SGD',\n",
              " 'SparseAdam',\n",
              " '__builtins__',\n",
              " '__cached__',\n",
              " '__doc__',\n",
              " '__file__',\n",
              " '__loader__',\n",
              " '__name__',\n",
              " '__package__',\n",
              " '__path__',\n",
              " '__spec__',\n",
              " '_multi_tensor',\n",
              " 'functional',\n",
              " 'lr_scheduler',\n",
              " 'swa_utils']"
            ]
          },
          "metadata": {
            "tags": []
          },
          "execution_count": 21
        }
      ]
    },
    {
      "cell_type": "code",
      "metadata": {
        "id": "7Oa_IJ5DIagb"
      },
      "source": [
        "def training_loop(n_epochs, optimizer, params, t_u, t_c):\n",
        "  for epoch in range(1, n_epochs+1):\n",
        "    \n",
        "\n",
        "    t_p = model(t_u, *params)\n",
        "    loss = loss_fn(t_p, t_c)\n",
        "    optimizer.zero_grad()\n",
        "    loss.backward()\n",
        "    optimizer.step()\n",
        "\n",
        "    if epoch % 500 == 0:\n",
        "      print(\"Epoch %d, Loss %f\" % (epoch, float(loss)))\n",
        "  return params"
      ],
      "execution_count": 22,
      "outputs": []
    },
    {
      "cell_type": "code",
      "metadata": {
        "id": "PtFQZ5I9I3Lj",
        "outputId": "b7942408-089f-4f64-e224-5dde12314832",
        "colab": {
          "base_uri": "https://localhost:8080/"
        }
      },
      "source": [
        "params = torch.tensor([1.0,0.0], requires_grad=True)\n",
        "learning_rate=1e-2\n",
        "optimizer = optim.SGD([params], lr=learning_rate)\n",
        "\n",
        "training_loop(\n",
        "    n_epochs = 5000,\n",
        "    optimizer=optimizer,\n",
        "    params = params,\n",
        "    t_u = t_un,\n",
        "    t_c = t_c\n",
        ")\n"
      ],
      "execution_count": 23,
      "outputs": [
        {
          "output_type": "stream",
          "text": [
            "Epoch 500, Loss 7.860120\n",
            "Epoch 1000, Loss 3.828538\n",
            "Epoch 1500, Loss 3.092191\n",
            "Epoch 2000, Loss 2.957698\n",
            "Epoch 2500, Loss 2.933134\n",
            "Epoch 3000, Loss 2.928648\n",
            "Epoch 3500, Loss 2.927830\n",
            "Epoch 4000, Loss 2.927679\n",
            "Epoch 4500, Loss 2.927652\n",
            "Epoch 5000, Loss 2.927647\n"
          ],
          "name": "stdout"
        },
        {
          "output_type": "execute_result",
          "data": {
            "text/plain": [
              "tensor([  5.3671, -17.3012], requires_grad=True)"
            ]
          },
          "metadata": {
            "tags": []
          },
          "execution_count": 23
        }
      ]
    },
    {
      "cell_type": "code",
      "metadata": {
        "id": "heHEhVHwJF3G",
        "outputId": "39da1b67-c3a7-4ff2-dc83-8ac6c401f5ee",
        "colab": {
          "base_uri": "https://localhost:8080/"
        }
      },
      "source": [
        "params = torch.tensor([1.0,0.0], requires_grad=True)\n",
        "learning_rate=1e-1\n",
        "optimizer = optim.Adam([params], lr=learning_rate)\n",
        "\n",
        "training_loop(\n",
        "    n_epochs = 5000,\n",
        "    optimizer=optimizer,\n",
        "    params = params,\n",
        "    t_u = t_u,\n",
        "    t_c = t_c\n",
        ")\n"
      ],
      "execution_count": 24,
      "outputs": [
        {
          "output_type": "stream",
          "text": [
            "Epoch 500, Loss 7.612900\n",
            "Epoch 1000, Loss 3.086700\n",
            "Epoch 1500, Loss 2.928579\n",
            "Epoch 2000, Loss 2.927644\n",
            "Epoch 2500, Loss 2.927645\n",
            "Epoch 3000, Loss 2.927646\n",
            "Epoch 3500, Loss 2.927645\n",
            "Epoch 4000, Loss 2.927646\n",
            "Epoch 4500, Loss 2.927646\n",
            "Epoch 5000, Loss 2.927645\n"
          ],
          "name": "stdout"
        },
        {
          "output_type": "execute_result",
          "data": {
            "text/plain": [
              "tensor([  0.5368, -17.3048], requires_grad=True)"
            ]
          },
          "metadata": {
            "tags": []
          },
          "execution_count": 24
        }
      ]
    },
    {
      "cell_type": "markdown",
      "metadata": {
        "id": "iDKPSdE2M-Gw"
      },
      "source": [
        "## Spliting a Dataset"
      ]
    },
    {
      "cell_type": "code",
      "metadata": {
        "id": "UineOZX0JU37",
        "outputId": "c3da7630-b755-4d8e-b15f-1b2d641eb00a",
        "colab": {
          "base_uri": "https://localhost:8080/"
        }
      },
      "source": [
        "n_samples = t_u.shape[0]\n",
        "n_val = int(0.2 * n_samples)\n",
        "\n",
        "shuffled_indices = torch.randperm(n_samples)\n",
        "\n",
        "train_indices = shuffled_indices[:-n_val]\n",
        "val_indices = shuffled_indices[-n_val:]\n",
        "\n",
        "train_indices, val_indices"
      ],
      "execution_count": 25,
      "outputs": [
        {
          "output_type": "execute_result",
          "data": {
            "text/plain": [
              "(tensor([ 4,  0, 10,  1,  6,  8,  7,  9,  2]), tensor([3, 5]))"
            ]
          },
          "metadata": {
            "tags": []
          },
          "execution_count": 25
        }
      ]
    },
    {
      "cell_type": "code",
      "metadata": {
        "id": "TAYTGl4mNn-c"
      },
      "source": [
        "train_t_u = t_u[train_indices]\n",
        "train_t_c = t_c[train_indices]\n",
        "\n",
        "val_t_u = t_u[val_indices]\n",
        "val_t_c = t_c[val_indices]\n",
        "\n",
        "train_t_un = 0.1 * train_t_u\n",
        "val_t_un = 0.1 * val_t_u"
      ],
      "execution_count": 26,
      "outputs": []
    },
    {
      "cell_type": "code",
      "metadata": {
        "id": "QG4VO92uN6z5"
      },
      "source": [
        "def training_loop(n_epochs, optimizer, params, train_t_u, val_t_u, train_t_c, val_t_c):\n",
        "  for epoch in range(1, n_epochs+1):\n",
        "    \n",
        "    if params.grad is not None:\n",
        "      params.grad.zero_()  \n",
        "    with torch.set_grad_enabled(True):\n",
        "      train_t_p = model(train_t_u, *params)\n",
        "      train_loss = loss_fn(train_t_p, train_t_c)\n",
        "    with torch.no_grad():\n",
        "      val_t_p = model(val_t_u, *params)\n",
        "      val_loss = loss_fn(val_t_p, val_t_c)\n",
        "      assert val_loss.requires_grad==False\n",
        "\n",
        "    optimizer.zero_grad()\n",
        "    train_loss.backward()\n",
        "    optimizer.step()\n",
        "\n",
        "    if epoch<=3 or epoch % 500 == 0:\n",
        "      print(f\"Epoch {epoch}, Training loss {train_loss.item():.4f}, \"f\"Validation loss{val_loss.item():.4f}\")\n",
        "  return params"
      ],
      "execution_count": 27,
      "outputs": []
    },
    {
      "cell_type": "code",
      "metadata": {
        "id": "5rDVNWouOq1N",
        "outputId": "60d64eb6-e809-41be-a8f2-b824e9b8cdeb",
        "colab": {
          "base_uri": "https://localhost:8080/"
        }
      },
      "source": [
        "params = torch.tensor([1.0, 0.0], requires_grad=True)\n",
        "learning_rate = 1e-2\n",
        "optimizer = optim.SGD([params], lr=learning_rate)\n",
        "\n",
        "training_loop(\n",
        "    n_epochs=3000,\n",
        "    optimizer=optimizer,\n",
        "    params=params,\n",
        "    train_t_u=train_t_un,\n",
        "    val_t_u=val_t_un,\n",
        "    train_t_c=train_t_c,\n",
        "    val_t_c=val_t_c\n",
        ")"
      ],
      "execution_count": 28,
      "outputs": [
        {
          "output_type": "stream",
          "text": [
            "Epoch 1, Training loss 53.5444, Validation loss201.0541\n",
            "Epoch 2, Training loss 30.5667, Validation loss115.4398\n",
            "Epoch 3, Training loss 25.5510, Validation loss85.4571\n",
            "Epoch 500, Training loss 7.7695, Validation loss21.5329\n",
            "Epoch 1000, Training loss 4.1600, Validation loss9.2849\n",
            "Epoch 1500, Training loss 3.3756, Validation loss5.3324\n",
            "Epoch 2000, Training loss 3.2051, Validation loss3.8717\n",
            "Epoch 2500, Training loss 3.1681, Validation loss3.2738\n",
            "Epoch 3000, Training loss 3.1600, Validation loss3.0131\n"
          ],
          "name": "stdout"
        },
        {
          "output_type": "execute_result",
          "data": {
            "text/plain": [
              "tensor([  5.0943, -16.0027], requires_grad=True)"
            ]
          },
          "metadata": {
            "tags": []
          },
          "execution_count": 28
        }
      ]
    },
    {
      "cell_type": "markdown",
      "metadata": {
        "id": "iGss1i6xSCmO"
      },
      "source": [
        "## Homework \n",
        "\n",
        "### Gathering Dataset"
      ]
    },
    {
      "cell_type": "code",
      "metadata": {
        "id": "nMnzQnGbPRrC"
      },
      "source": [
        "t_c = [0.5, 14.0, 15.0, 28.0, 11.0, 8.0, 3.0, -4.0, 6.0, 13.0, 21.0]\n",
        "t_u = [35.7, 55.9, 58.2, 81.9, 56.3, 48.9, 33.9, 21.8, 48.4, 60.4, 68.4]\n",
        "t_c = torch.tensor(t_c)\n",
        "t_u = torch.tensor(t_u)"
      ],
      "execution_count": 29,
      "outputs": []
    },
    {
      "cell_type": "code",
      "metadata": {
        "id": "-5H-fyzJSl7H",
        "outputId": "baa6b24e-f2e2-40a1-9c1b-1d61a994de36",
        "colab": {
          "base_uri": "https://localhost:8080/"
        }
      },
      "source": [
        "n_samples = t_u.shape[0]\n",
        "n_val = int(0.2 * n_samples)\n",
        "\n",
        "shuffled_indices = torch.randperm(n_samples)\n",
        "\n",
        "train_indices = shuffled_indices[:-n_val]\n",
        "val_indices = shuffled_indices[-n_val:]\n",
        "\n",
        "train_indices, val_indices"
      ],
      "execution_count": 30,
      "outputs": [
        {
          "output_type": "execute_result",
          "data": {
            "text/plain": [
              "(tensor([ 2,  8, 10,  1,  9,  3,  7,  6,  4]), tensor([5, 0]))"
            ]
          },
          "metadata": {
            "tags": []
          },
          "execution_count": 30
        }
      ]
    },
    {
      "cell_type": "code",
      "metadata": {
        "id": "UR6HXBZUSnw-"
      },
      "source": [
        "train_t_u = t_u[train_indices]\n",
        "train_t_c = t_c[train_indices]\n",
        "\n",
        "val_t_u = t_u[val_indices]\n",
        "val_t_c = t_c[val_indices]\n",
        "\n",
        "train_t_un = 0.1 * train_t_u\n",
        "val_t_un = 0.1 * val_t_u"
      ],
      "execution_count": 31,
      "outputs": []
    },
    {
      "cell_type": "markdown",
      "metadata": {
        "id": "3E3dOvj1TxaC"
      },
      "source": [
        "**A. What parts of the training loop, and so on, need to change to accommodate this redefinition?**"
      ]
    },
    {
      "cell_type": "markdown",
      "metadata": {
        "id": "qGRaJg90VYJJ"
      },
      "source": [
        "\n",
        "\n",
        "*   model 함수를 일차함수가 아닌 2차함수로 바꾸어야 합니다. \n",
        "\n",
        "\n",
        "\n"
      ]
    },
    {
      "cell_type": "code",
      "metadata": {
        "id": "owdsqMqESfFD"
      },
      "source": [
        "def model(t_u, w1, w2, b):\n",
        "  return w1*(t_u)*(t_u) + w2 * t_u + b\n",
        "\n",
        "## Mean Squared Error  \n",
        "def loss_fn(t_p, t_c):\n",
        "  squared_diffs = (t_p-t_c)**2\n",
        "  return squared_diffs.mean()"
      ],
      "execution_count": 32,
      "outputs": []
    },
    {
      "cell_type": "markdown",
      "metadata": {
        "id": "jw010DsAU3_E"
      },
      "source": [
        "**B. What parts are agnostic to swapping out the model?**"
      ]
    },
    {
      "cell_type": "markdown",
      "metadata": {
        "id": "RjbzdW4oWZ92"
      },
      "source": [
        "\n",
        "\n",
        "*   loss function과 optimizer 등이 모델 구조에 관계없이 자유롭습니다. \n",
        "* 데이터 구성 역시 영향을 받지 않습니다. \n",
        "\n"
      ]
    },
    {
      "cell_type": "markdown",
      "metadata": {
        "id": "cPjEaKUPU9SG"
      },
      "source": [
        "**C. Is the resulting loss higher or lower after training?**"
      ]
    },
    {
      "cell_type": "markdown",
      "metadata": {
        "id": "_AbmW6bZWrKt"
      },
      "source": [
        "\n",
        "\n",
        "*   loss가 학습에 진행됨에 따라 커집니다. \n",
        "\n"
      ]
    },
    {
      "cell_type": "code",
      "metadata": {
        "id": "RytbjbZtS2XU"
      },
      "source": [
        "def training_loop(n_epochs, optimizer, params, train_t_u, val_t_u, train_t_c, val_t_c):\n",
        "  for epoch in range(1, n_epochs+1):\n",
        "    \n",
        "    if params.grad is not None:\n",
        "      params.grad.zero_()  \n",
        "    with torch.set_grad_enabled(True):\n",
        "      train_t_p = model(train_t_u, *params)\n",
        "      train_loss = loss_fn(train_t_p, train_t_c)\n",
        "    with torch.no_grad():\n",
        "      val_t_p = model(val_t_u, *params)\n",
        "      val_loss = loss_fn(val_t_p, val_t_c)\n",
        "      assert val_loss.requires_grad==False\n",
        "\n",
        "    optimizer.zero_grad()\n",
        "    train_loss.backward()\n",
        "    optimizer.step()\n",
        "\n",
        "    if epoch<=3 or epoch % 500 == 0:\n",
        "      print(f\"Epoch {epoch}, Training loss {train_loss.item():.4f}, \"f\"Validation loss{val_loss.item():.4f}\")\n",
        "  return params"
      ],
      "execution_count": 33,
      "outputs": []
    },
    {
      "cell_type": "code",
      "metadata": {
        "id": "pUQ8VpJwS3u0",
        "outputId": "e66e9961-0988-482f-b6ba-0213c96eacde",
        "colab": {
          "base_uri": "https://localhost:8080/"
        }
      },
      "source": [
        "params = torch.tensor([-1.0, 1.0, 0.0], requires_grad=True)\n",
        "learning_rate = 1e-2\n",
        "optimizer = optim.SGD([params], lr=learning_rate)\n",
        "\n",
        "training_loop(\n",
        "    n_epochs=3000,\n",
        "    optimizer=optimizer,\n",
        "    params=params,\n",
        "    train_t_u=train_t_un,\n",
        "    val_t_u=val_t_un,\n",
        "    train_t_c=train_t_c,\n",
        "    val_t_c=val_t_c\n",
        ")"
      ],
      "execution_count": 34,
      "outputs": [
        {
          "output_type": "stream",
          "text": [
            "Epoch 1, Training loss 2075.6345, Validation loss411.8989\n",
            "Epoch 2, Training loss 1389392.2500, Validation loss400968.2500\n",
            "Epoch 3, Training loss 936391744.0000, Validation loss266650976.0000\n",
            "Epoch 500, Training loss nan, Validation lossnan\n",
            "Epoch 1000, Training loss nan, Validation lossnan\n",
            "Epoch 1500, Training loss nan, Validation lossnan\n",
            "Epoch 2000, Training loss nan, Validation lossnan\n",
            "Epoch 2500, Training loss nan, Validation lossnan\n",
            "Epoch 3000, Training loss nan, Validation lossnan\n"
          ],
          "name": "stdout"
        },
        {
          "output_type": "execute_result",
          "data": {
            "text/plain": [
              "tensor([nan, nan, nan], requires_grad=True)"
            ]
          },
          "metadata": {
            "tags": []
          },
          "execution_count": 34
        }
      ]
    },
    {
      "cell_type": "markdown",
      "metadata": {
        "id": "bocwNsvlVJyG"
      },
      "source": [
        "**D. Is the actual result better or worse?**"
      ]
    },
    {
      "cell_type": "markdown",
      "metadata": {
        "id": "YJC6EQAhWwTN"
      },
      "source": [
        "\n",
        "\n",
        "*   실제 결과는 더 안 좋습니다. loss function의 backpropagation이 이차함수에 맞춰 구현이 되어있지 않기 때문입니다. \n"
      ]
    },
    {
      "cell_type": "code",
      "metadata": {
        "id": "aNdtqCerTXVS"
      },
      "source": [
        ""
      ],
      "execution_count": 34,
      "outputs": []
    }
  ]
}